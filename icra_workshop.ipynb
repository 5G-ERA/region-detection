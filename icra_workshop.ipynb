{
 "cells": [
  {
   "cell_type": "markdown",
   "metadata": {},
   "source": [
    "### > ICRA 2024 Tutorial - Connected Robotics Platform for ROS Deployment in Real-world Network Settings\n",
    "#### > How to build a build a containerised portable region detector for industrial robots\n",
    "__> Led by Paul McHard of HAL Robotics.__\n",
    "\n",
    "This jupyter notebook is part of the *\"Hands On Experience\"* of the tutorial, and is intended to provide an enivornment to test and verify the changes you make to the region detection service before submission. "
   ]
  },
  {
   "cell_type": "code",
   "execution_count": 1,
   "metadata": {},
   "outputs": [],
   "source": [
    "# imports\n",
    "import cv2 \n",
    "import numpy as np\n",
    "from regionDetection import RegionDetectionService"
   ]
  },
  {
   "cell_type": "code",
   "execution_count": 2,
   "metadata": {},
   "outputs": [],
   "source": [
    "# Fine tune Parameters - Remember to copy final values into regionDetection.py at line 21 before submitting!\n",
    "minimum_edges = 3\n",
    "precision = 0.001\n",
    "black_threshold = 120\n",
    "\n",
    "data_dir = 'data/'\n",
    "img_file = 'test3.png'\n",
    "image = cv2.imread(data_dir + img_file)\n",
    "rd = RegionDetectionService()\n",
    "polylines, vertices = rd.find_regions(img=image.copy(), min_edges=minimum_edges, precision=precision, binaryThreshold=black_threshold)\n",
    "\n",
    "# Draw the contours on the original image\n",
    "for curve in polylines:\n",
    "    cv2.drawContours(image, [curve], 0, (0, 0, 255), 2)\n",
    "\n",
    "# Show the image with the contours drawn\n",
    "cv2.imshow('Image with Contours', image)\n",
    "cv2.waitKey(0)\n",
    "cv2.destroyAllWindows()"
   ]
  }
 ],
 "metadata": {
  "kernelspec": {
   "display_name": ".venv",
   "language": "python",
   "name": "python3"
  },
  "language_info": {
   "codemirror_mode": {
    "name": "ipython",
    "version": 3
   },
   "file_extension": ".py",
   "mimetype": "text/x-python",
   "name": "python",
   "nbconvert_exporter": "python",
   "pygments_lexer": "ipython3",
   "version": "3.11.9"
  }
 },
 "nbformat": 4,
 "nbformat_minor": 2
}
