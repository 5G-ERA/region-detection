{
 "cells": [
  {
   "cell_type": "markdown",
   "metadata": {},
   "source": [
    "### > ICRA 2024 Tutorial - Connected Robotics Platform for ROS Deployment in Real-world Network Settings\n",
    "#### > How to build a build a containerised portable region detector for industrial robots\n",
    "__> Led by Paul McHard of HAL Robotics.__\n",
    "\n",
    "This jupyter notebook is part of the *\"Hands On Experience\"* of the tutorial, and is intended to provide an enivornment to test and verify the changes you make to the region detection service before submission. "
   ]
  },
  {
   "cell_type": "code",
   "execution_count": 2,
   "metadata": {},
   "outputs": [
    {
     "ename": "SyntaxError",
     "evalue": "invalid decimal literal (regionDetection.py, line 26)",
     "output_type": "error",
     "traceback": [
      "Traceback \u001b[1;36m(most recent call last)\u001b[0m:\n",
      "\u001b[0m  File \u001b[0;32mc:\\Users\\2085227M\\source\\repos\\projects\\ICRA\\.venv\\Lib\\site-packages\\IPython\\core\\interactiveshell.py:3577\u001b[0m in \u001b[0;35mrun_code\u001b[0m\n    exec(code_obj, self.user_global_ns, self.user_ns)\u001b[0m\n",
      "\u001b[1;36m  Cell \u001b[1;32mIn[2], line 4\u001b[1;36m\n\u001b[1;33m    from regionDetection import RegionDetectionService\u001b[1;36m\n",
      "\u001b[1;36m  File \u001b[1;32mc:\\Users\\2085227M\\source\\repos\\projects\\ICRA\\regionDetection.py:26\u001b[1;36m\u001b[0m\n\u001b[1;33m    PORT = 500XX\u001b[0m\n\u001b[1;37m             ^\u001b[0m\n\u001b[1;31mSyntaxError\u001b[0m\u001b[1;31m:\u001b[0m invalid decimal literal\n"
     ]
    }
   ],
   "source": [
    "# imports\n",
    "import cv2 \n",
    "import numpy as np\n",
    "from regionDetection import RegionDetectionService"
   ]
  },
  {
   "cell_type": "code",
   "execution_count": 1,
   "metadata": {},
   "outputs": [
    {
     "ename": "NameError",
     "evalue": "name 'cv2' is not defined",
     "output_type": "error",
     "traceback": [
      "\u001b[1;31m---------------------------------------------------------------------------\u001b[0m",
      "\u001b[1;31mNameError\u001b[0m                                 Traceback (most recent call last)",
      "Cell \u001b[1;32mIn[1], line 8\u001b[0m\n\u001b[0;32m      6\u001b[0m data_dir \u001b[38;5;241m=\u001b[39m \u001b[38;5;124m'\u001b[39m\u001b[38;5;124mdata/\u001b[39m\u001b[38;5;124m'\u001b[39m\n\u001b[0;32m      7\u001b[0m img_file \u001b[38;5;241m=\u001b[39m \u001b[38;5;124m'\u001b[39m\u001b[38;5;124mtest3.png\u001b[39m\u001b[38;5;124m'\u001b[39m\n\u001b[1;32m----> 8\u001b[0m image \u001b[38;5;241m=\u001b[39m \u001b[43mcv2\u001b[49m\u001b[38;5;241m.\u001b[39mimread(data_dir \u001b[38;5;241m+\u001b[39m img_file)\n\u001b[0;32m      9\u001b[0m rd \u001b[38;5;241m=\u001b[39m RegionDetectionService()\n\u001b[0;32m     10\u001b[0m polylines, vertices \u001b[38;5;241m=\u001b[39m rd\u001b[38;5;241m.\u001b[39mfind_regions(img\u001b[38;5;241m=\u001b[39mimage\u001b[38;5;241m.\u001b[39mcopy(), min_edges\u001b[38;5;241m=\u001b[39mminimum_edges, precision\u001b[38;5;241m=\u001b[39mprecision, binaryThreshold\u001b[38;5;241m=\u001b[39mblack_threshold)\n",
      "\u001b[1;31mNameError\u001b[0m: name 'cv2' is not defined"
     ]
    }
   ],
   "source": [
    "# Fine tune Parameters - Remember to copy final values into regionDetection.py at line 21 before submitting!\n",
    "minimum_edges = 3\n",
    "precision = 0.02\n",
    "black_threshold = 120\n",
    "\n",
    "data_dir = 'data/'\n",
    "img_file = 'test3.png'\n",
    "image = cv2.imread(data_dir + img_file)\n",
    "rd = RegionDetectionService()\n",
    "polylines, vertices = rd.find_regions(img=image.copy(), min_edges=minimum_edges, precision=precision, binaryThreshold=black_threshold)\n",
    "\n",
    "# Draw the contours on the original image\n",
    "for curve in polylines:\n",
    "    cv2.drawContours(image, [curve], 0, (0, 0, 255), 2)\n",
    "\n",
    "# Show the image with the contours drawn\n",
    "cv2.imshow('Image with Contours', image)\n",
    "cv2.waitKey(0)\n",
    "cv2.destroyAllWindows()"
   ]
  }
 ],
 "metadata": {
  "kernelspec": {
   "display_name": ".venv",
   "language": "python",
   "name": "python3"
  },
  "language_info": {
   "codemirror_mode": {
    "name": "ipython",
    "version": 3
   },
   "file_extension": ".py",
   "mimetype": "text/x-python",
   "name": "python",
   "nbconvert_exporter": "python",
   "pygments_lexer": "ipython3",
   "version": "3.11.9"
  }
 },
 "nbformat": 4,
 "nbformat_minor": 2
}
